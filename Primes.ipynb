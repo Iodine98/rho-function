{
  "cells": [
    {
      "cell_type": "code",
      "execution_count": null,
      "metadata": {
        "id": "JhMt93gCuTVO"
      },
      "outputs": [],
      "source": [
        "from tqdm.auto import tqdm\n",
        "import math\n",
        "from decimal import Decimal"
      ]
    },
    {
      "cell_type": "code",
      "execution_count": null,
      "metadata": {
        "id": "FWseTdGtLbfv"
      },
      "outputs": [],
      "source": [
        "# Define the PRIME_SET and the Prime function\n",
        "PRIME_SET = set([2])"
      ]
    },
    {
      "cell_type": "code",
      "execution_count": null,
      "metadata": {
        "id": "KZO1Rytpqwzv"
      },
      "outputs": [],
      "source": [
        "def break_down(n: int, base: int) -> tuple[int, list[tuple[int, int]]]:\n",
        "  exponent = 0\n",
        "  while n % base == 0:\n",
        "    n = n // base\n",
        "    exponent += 1\n",
        "  if exponent > 0:\n",
        "    return n, [(base, exponent)]\n",
        "  return n, []"
      ]
    },
    {
      "cell_type": "code",
      "execution_count": null,
      "metadata": {
        "id": "vZOnifxXsjlO"
      },
      "outputs": [],
      "source": [
        "def is_prime(k: int, add_to_PRIME_SET: bool = False):\n",
        "  for prime in PRIME_SET:\n",
        "    if k % prime == 0:\n",
        "      return False\n",
        "  if add_to_PRIME_SET:\n",
        "    PRIME_SET.add(k)\n",
        "  return True"
      ]
    },
    {
      "cell_type": "code",
      "execution_count": null,
      "metadata": {
        "id": "ICty0cQuNZUm"
      },
      "outputs": [],
      "source": [
        "# Define the Rho function\n",
        "def rho(n: int, enable_tqdm = False):\n",
        "  pairs: list[tuple[int, int]] = []\n",
        "  number = n\n",
        "  range_bar = tqdm(total=n, initial=2, disable=not enable_tqdm, unit_scale=True)\n",
        "  inc = 1\n",
        "  base = 2\n",
        "  while base < n:\n",
        "    if base in PRIME_SET or is_prime(base, add_to_PRIME_SET=True):\n",
        "      if number == 1:\n",
        "        range_bar.update(n - base)\n",
        "        range_bar.close()\n",
        "        return pairs\n",
        "      if base > Decimal(n).sqrt():\n",
        "        pairs.append((number, 1))\n",
        "        range_bar.update(n - base)\n",
        "        range_bar.close()\n",
        "        return pairs\n",
        "      if number < n:\n",
        "        pairs = [*pairs, *rho(number, enable_tqdm)]\n",
        "        range_bar.update(n - base)\n",
        "        range_bar.close()\n",
        "        return pairs\n",
        "      number, pair = break_down(number, base)\n",
        "      pairs.extend(pair)\n",
        "    base += 1\n",
        "    range_bar.update()\n",
        "  if number > 1:\n",
        "    pairs.append((number, 1))\n",
        "  range_bar.close()\n",
        "  return pairs"
      ]
    },
    {
      "cell_type": "code",
      "execution_count": null,
      "metadata": {
        "colab": {
          "base_uri": "https://localhost:8080/",
          "height": 243,
          "referenced_widgets": [
            "1278208c55af4970a7c3c861ef1e3dc2",
            "7c34fc428e7e408391768b7406feb1b2",
            "3e4b425be564493784b0d2ba9f00ac2e",
            "5e179f6e0bab41dd90d03fb3649b41cf",
            "48321e062ff440508cac5ade8aed367b",
            "2ae0cd7d82f64d10ab1bfa3fecb61300",
            "3934afbc1a71478fb1b32b520fa1cfd3",
            "af398188e74643fb9224248ec9123836",
            "372b7c3f32514353a3efeb892c537c72",
            "ec2d0970cb7d4b61aaeb90ce05ab4475",
            "cedd3872407c47269036b36436582a65"
          ]
        },
        "id": "WjH4VWMFL7lK",
        "outputId": "bb839a4e-7f1a-4199-8b1e-db142a204a75"
      },
      "outputs": [
        {
          "data": {
            "application/vnd.jupyter.widget-view+json": {
              "model_id": "1278208c55af4970a7c3c861ef1e3dc2",
              "version_major": 2,
              "version_minor": 0
            },
            "text/plain": [
              "  0%|          | 0/199998 [00:00<?, ?it/s]"
            ]
          },
          "metadata": {},
          "output_type": "display_data"
        },
        {
          "ename": "TypeError",
          "evalue": "ignored",
          "output_type": "error",
          "traceback": [
            "\u001b[0;31m---------------------------------------------------------------------------\u001b[0m",
            "\u001b[0;31mTypeError\u001b[0m                                 Traceback (most recent call last)",
            "\u001b[0;32m<ipython-input-12-5ecc10b7417a>\u001b[0m in \u001b[0;36m<cell line: 9>\u001b[0;34m()\u001b[0m\n\u001b[1;32m      8\u001b[0m     \u001b[0mprint\u001b[0m\u001b[0;34m(\u001b[0m\u001b[0;34m\"Rho does not work for: \"\u001b[0m \u001b[0;34m+\u001b[0m \u001b[0mi\u001b[0m \u001b[0;34m+\u001b[0m \u001b[0;34m\" see: \"\u001b[0m \u001b[0;34m+\u001b[0m \u001b[0mcds\u001b[0m\u001b[0;34m)\u001b[0m\u001b[0;34m\u001b[0m\u001b[0;34m\u001b[0m\u001b[0m\n\u001b[1;32m      9\u001b[0m \u001b[0;32mif\u001b[0m \u001b[0mworks\u001b[0m\u001b[0;34m:\u001b[0m\u001b[0;34m\u001b[0m\u001b[0;34m\u001b[0m\u001b[0m\n\u001b[0;32m---> 10\u001b[0;31m   \u001b[0mprint\u001b[0m\u001b[0;34m(\u001b[0m\u001b[0;34m\"Rho works for all numbers up to: \"\u001b[0m \u001b[0;34m+\u001b[0m \u001b[0mupper_bound\u001b[0m\u001b[0;34m)\u001b[0m\u001b[0;34m\u001b[0m\u001b[0;34m\u001b[0m\u001b[0m\n\u001b[0m",
            "\u001b[0;31mTypeError\u001b[0m: can only concatenate str (not \"int\") to str"
          ]
        }
      ],
      "source": [
        "works = True\n",
        "upper_bound = 200_000\n",
        "for i in tqdm(range(2, upper_bound)):\n",
        "  cds = rho(i)\n",
        "  number = math.prod(c**d for c,d in cds)\n",
        "  if i != number:\n",
        "    works = False\n",
        "    print(\"Rho does not work for: \" + i + \" see: \" + cds)\n",
        "if works:\n",
        "  print(\"Rho works for all numbers up to: \" + str(upper_bound))"
      ]
    }
  ],
  "metadata": {
    "colab": {
      "provenance": []
    },
    "kernelspec": {
      "display_name": "Python 3",
      "name": "python3"
    },
    "language_info": {
      "name": "python"
    },
    "widgets": {
      "application/vnd.jupyter.widget-state+json": {
        "1278208c55af4970a7c3c861ef1e3dc2": {
          "model_module": "@jupyter-widgets/controls",
          "model_module_version": "1.5.0",
          "model_name": "HBoxModel",
          "state": {
            "_dom_classes": [],
            "_model_module": "@jupyter-widgets/controls",
            "_model_module_version": "1.5.0",
            "_model_name": "HBoxModel",
            "_view_count": null,
            "_view_module": "@jupyter-widgets/controls",
            "_view_module_version": "1.5.0",
            "_view_name": "HBoxView",
            "box_style": "",
            "children": [
              "IPY_MODEL_7c34fc428e7e408391768b7406feb1b2",
              "IPY_MODEL_3e4b425be564493784b0d2ba9f00ac2e",
              "IPY_MODEL_5e179f6e0bab41dd90d03fb3649b41cf"
            ],
            "layout": "IPY_MODEL_48321e062ff440508cac5ade8aed367b"
          }
        },
        "2ae0cd7d82f64d10ab1bfa3fecb61300": {
          "model_module": "@jupyter-widgets/base",
          "model_module_version": "1.2.0",
          "model_name": "LayoutModel",
          "state": {
            "_model_module": "@jupyter-widgets/base",
            "_model_module_version": "1.2.0",
            "_model_name": "LayoutModel",
            "_view_count": null,
            "_view_module": "@jupyter-widgets/base",
            "_view_module_version": "1.2.0",
            "_view_name": "LayoutView",
            "align_content": null,
            "align_items": null,
            "align_self": null,
            "border": null,
            "bottom": null,
            "display": null,
            "flex": null,
            "flex_flow": null,
            "grid_area": null,
            "grid_auto_columns": null,
            "grid_auto_flow": null,
            "grid_auto_rows": null,
            "grid_column": null,
            "grid_gap": null,
            "grid_row": null,
            "grid_template_areas": null,
            "grid_template_columns": null,
            "grid_template_rows": null,
            "height": null,
            "justify_content": null,
            "justify_items": null,
            "left": null,
            "margin": null,
            "max_height": null,
            "max_width": null,
            "min_height": null,
            "min_width": null,
            "object_fit": null,
            "object_position": null,
            "order": null,
            "overflow": null,
            "overflow_x": null,
            "overflow_y": null,
            "padding": null,
            "right": null,
            "top": null,
            "visibility": null,
            "width": null
          }
        },
        "372b7c3f32514353a3efeb892c537c72": {
          "model_module": "@jupyter-widgets/controls",
          "model_module_version": "1.5.0",
          "model_name": "ProgressStyleModel",
          "state": {
            "_model_module": "@jupyter-widgets/controls",
            "_model_module_version": "1.5.0",
            "_model_name": "ProgressStyleModel",
            "_view_count": null,
            "_view_module": "@jupyter-widgets/base",
            "_view_module_version": "1.2.0",
            "_view_name": "StyleView",
            "bar_color": null,
            "description_width": ""
          }
        },
        "3934afbc1a71478fb1b32b520fa1cfd3": {
          "model_module": "@jupyter-widgets/controls",
          "model_module_version": "1.5.0",
          "model_name": "DescriptionStyleModel",
          "state": {
            "_model_module": "@jupyter-widgets/controls",
            "_model_module_version": "1.5.0",
            "_model_name": "DescriptionStyleModel",
            "_view_count": null,
            "_view_module": "@jupyter-widgets/base",
            "_view_module_version": "1.2.0",
            "_view_name": "StyleView",
            "description_width": ""
          }
        },
        "3e4b425be564493784b0d2ba9f00ac2e": {
          "model_module": "@jupyter-widgets/controls",
          "model_module_version": "1.5.0",
          "model_name": "FloatProgressModel",
          "state": {
            "_dom_classes": [],
            "_model_module": "@jupyter-widgets/controls",
            "_model_module_version": "1.5.0",
            "_model_name": "FloatProgressModel",
            "_view_count": null,
            "_view_module": "@jupyter-widgets/controls",
            "_view_module_version": "1.5.0",
            "_view_name": "ProgressView",
            "bar_style": "success",
            "description": "",
            "description_tooltip": null,
            "layout": "IPY_MODEL_af398188e74643fb9224248ec9123836",
            "max": 199998,
            "min": 0,
            "orientation": "horizontal",
            "style": "IPY_MODEL_372b7c3f32514353a3efeb892c537c72",
            "value": 199998
          }
        },
        "48321e062ff440508cac5ade8aed367b": {
          "model_module": "@jupyter-widgets/base",
          "model_module_version": "1.2.0",
          "model_name": "LayoutModel",
          "state": {
            "_model_module": "@jupyter-widgets/base",
            "_model_module_version": "1.2.0",
            "_model_name": "LayoutModel",
            "_view_count": null,
            "_view_module": "@jupyter-widgets/base",
            "_view_module_version": "1.2.0",
            "_view_name": "LayoutView",
            "align_content": null,
            "align_items": null,
            "align_self": null,
            "border": null,
            "bottom": null,
            "display": null,
            "flex": null,
            "flex_flow": null,
            "grid_area": null,
            "grid_auto_columns": null,
            "grid_auto_flow": null,
            "grid_auto_rows": null,
            "grid_column": null,
            "grid_gap": null,
            "grid_row": null,
            "grid_template_areas": null,
            "grid_template_columns": null,
            "grid_template_rows": null,
            "height": null,
            "justify_content": null,
            "justify_items": null,
            "left": null,
            "margin": null,
            "max_height": null,
            "max_width": null,
            "min_height": null,
            "min_width": null,
            "object_fit": null,
            "object_position": null,
            "order": null,
            "overflow": null,
            "overflow_x": null,
            "overflow_y": null,
            "padding": null,
            "right": null,
            "top": null,
            "visibility": null,
            "width": null
          }
        },
        "5e179f6e0bab41dd90d03fb3649b41cf": {
          "model_module": "@jupyter-widgets/controls",
          "model_module_version": "1.5.0",
          "model_name": "HTMLModel",
          "state": {
            "_dom_classes": [],
            "_model_module": "@jupyter-widgets/controls",
            "_model_module_version": "1.5.0",
            "_model_name": "HTMLModel",
            "_view_count": null,
            "_view_module": "@jupyter-widgets/controls",
            "_view_module_version": "1.5.0",
            "_view_name": "HTMLView",
            "description": "",
            "description_tooltip": null,
            "layout": "IPY_MODEL_ec2d0970cb7d4b61aaeb90ce05ab4475",
            "placeholder": "​",
            "style": "IPY_MODEL_cedd3872407c47269036b36436582a65",
            "value": " 199998/199998 [01:15&lt;00:00, 2502.30it/s]"
          }
        },
        "7c34fc428e7e408391768b7406feb1b2": {
          "model_module": "@jupyter-widgets/controls",
          "model_module_version": "1.5.0",
          "model_name": "HTMLModel",
          "state": {
            "_dom_classes": [],
            "_model_module": "@jupyter-widgets/controls",
            "_model_module_version": "1.5.0",
            "_model_name": "HTMLModel",
            "_view_count": null,
            "_view_module": "@jupyter-widgets/controls",
            "_view_module_version": "1.5.0",
            "_view_name": "HTMLView",
            "description": "",
            "description_tooltip": null,
            "layout": "IPY_MODEL_2ae0cd7d82f64d10ab1bfa3fecb61300",
            "placeholder": "​",
            "style": "IPY_MODEL_3934afbc1a71478fb1b32b520fa1cfd3",
            "value": "100%"
          }
        },
        "af398188e74643fb9224248ec9123836": {
          "model_module": "@jupyter-widgets/base",
          "model_module_version": "1.2.0",
          "model_name": "LayoutModel",
          "state": {
            "_model_module": "@jupyter-widgets/base",
            "_model_module_version": "1.2.0",
            "_model_name": "LayoutModel",
            "_view_count": null,
            "_view_module": "@jupyter-widgets/base",
            "_view_module_version": "1.2.0",
            "_view_name": "LayoutView",
            "align_content": null,
            "align_items": null,
            "align_self": null,
            "border": null,
            "bottom": null,
            "display": null,
            "flex": null,
            "flex_flow": null,
            "grid_area": null,
            "grid_auto_columns": null,
            "grid_auto_flow": null,
            "grid_auto_rows": null,
            "grid_column": null,
            "grid_gap": null,
            "grid_row": null,
            "grid_template_areas": null,
            "grid_template_columns": null,
            "grid_template_rows": null,
            "height": null,
            "justify_content": null,
            "justify_items": null,
            "left": null,
            "margin": null,
            "max_height": null,
            "max_width": null,
            "min_height": null,
            "min_width": null,
            "object_fit": null,
            "object_position": null,
            "order": null,
            "overflow": null,
            "overflow_x": null,
            "overflow_y": null,
            "padding": null,
            "right": null,
            "top": null,
            "visibility": null,
            "width": null
          }
        },
        "cedd3872407c47269036b36436582a65": {
          "model_module": "@jupyter-widgets/controls",
          "model_module_version": "1.5.0",
          "model_name": "DescriptionStyleModel",
          "state": {
            "_model_module": "@jupyter-widgets/controls",
            "_model_module_version": "1.5.0",
            "_model_name": "DescriptionStyleModel",
            "_view_count": null,
            "_view_module": "@jupyter-widgets/base",
            "_view_module_version": "1.2.0",
            "_view_name": "StyleView",
            "description_width": ""
          }
        },
        "ec2d0970cb7d4b61aaeb90ce05ab4475": {
          "model_module": "@jupyter-widgets/base",
          "model_module_version": "1.2.0",
          "model_name": "LayoutModel",
          "state": {
            "_model_module": "@jupyter-widgets/base",
            "_model_module_version": "1.2.0",
            "_model_name": "LayoutModel",
            "_view_count": null,
            "_view_module": "@jupyter-widgets/base",
            "_view_module_version": "1.2.0",
            "_view_name": "LayoutView",
            "align_content": null,
            "align_items": null,
            "align_self": null,
            "border": null,
            "bottom": null,
            "display": null,
            "flex": null,
            "flex_flow": null,
            "grid_area": null,
            "grid_auto_columns": null,
            "grid_auto_flow": null,
            "grid_auto_rows": null,
            "grid_column": null,
            "grid_gap": null,
            "grid_row": null,
            "grid_template_areas": null,
            "grid_template_columns": null,
            "grid_template_rows": null,
            "height": null,
            "justify_content": null,
            "justify_items": null,
            "left": null,
            "margin": null,
            "max_height": null,
            "max_width": null,
            "min_height": null,
            "min_width": null,
            "object_fit": null,
            "object_position": null,
            "order": null,
            "overflow": null,
            "overflow_x": null,
            "overflow_y": null,
            "padding": null,
            "right": null,
            "top": null,
            "visibility": null,
            "width": null
          }
        }
      }
    }
  },
  "nbformat": 4,
  "nbformat_minor": 0
}
